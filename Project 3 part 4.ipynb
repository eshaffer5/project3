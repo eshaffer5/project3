{
 "cells": [
  {
   "cell_type": "code",
   "execution_count": null,
   "metadata": {},
   "outputs": [],
   "source": [
    "import datetime\n",
    "import re\n",
    "\n",
    "with open(\"userlog.log\") as f:\n",
    "    suscount = 0\n",
    "    daycount = 0\n",
    "    glitcount = 0\n",
    "    irrcount = 0\n",
    "domainz = []\n",
    "\n",
    "def domain(input):\n",
    "    input = f.column[3]\n",
    "    x = input.split(\"@\")\n",
    "    \n",
    "    for i in x:\n",
    "        if '.com' in i: \n",
    "            domainz = domainz.append(i)\n",
    "            \n",
    "        return domainz\n",
    "    \n",
    "    print(suscount)\n",
    "    print(irrcount)\n",
    "    print(glitcount)\n",
    "    print(domainz)"
   ]
  }
 ],
 "metadata": {
  "kernelspec": {
   "display_name": "Python 3",
   "language": "python",
   "name": "python3"
  },
  "language_info": {
   "codemirror_mode": {
    "name": "ipython",
    "version": 3
   },
   "file_extension": ".py",
   "mimetype": "text/x-python",
   "name": "python",
   "nbconvert_exporter": "python",
   "pygments_lexer": "ipython3",
   "version": "3.8.5"
  }
 },
 "nbformat": 4,
 "nbformat_minor": 4
}
