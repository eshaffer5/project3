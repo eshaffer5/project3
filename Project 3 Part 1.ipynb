{
 "cells": [
  {
   "cell_type": "code",
   "execution_count": null,
   "metadata": {},
   "outputs": [],
   "source": [
    "import datetime\n",
    "import re\n",
    "\n",
    "with open(\"userlog.log\") as f:\n",
    "    suscount = 0\n",
    "    daycount = 0\n",
    "    glitcount = 0\n",
    "    irrcount = 0\n",
    "    for line in f:\n",
    "        for match in re.finditer(regex, line, re.S):\n",
    "            match_text = match.group()\n",
    "            match_list.append(match_text)\n",
    "        print(match_text)\n",
    "            \n",
    "    for line in f:\n",
    "        if \"login\" in line:\n",
    "            logday = line.strptime(\"%w\")\n",
    "            logtime = line.strptime(\"%H\")\n",
    "            if logtime <= 4:\n",
    "                print(line)\n",
    "                suscount += 1\n",
    "    print(suscount)\n",
    "            #if f.[2]('login' == true)"
   ]
  }
 ],
 "metadata": {
  "kernelspec": {
   "display_name": "Python 3",
   "language": "python",
   "name": "python3"
  },
  "language_info": {
   "codemirror_mode": {
    "name": "ipython",
    "version": 3
   },
   "file_extension": ".py",
   "mimetype": "text/x-python",
   "name": "python",
   "nbconvert_exporter": "python",
   "pygments_lexer": "ipython3",
   "version": "3.8.5"
  }
 },
 "nbformat": 4,
 "nbformat_minor": 4
}
